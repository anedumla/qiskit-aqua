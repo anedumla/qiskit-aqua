{
 "cells": [
  {
   "cell_type": "markdown",
   "metadata": {},
   "source": [
    "### Summary\n",
    "\n",
    "Refactor the Linear_solvers package, so that the quantum algorithm (HHL) accepts oracles for the different blocks and computes de different parameters according to the error bounds calculated in [1].\n",
    "\n",
    "### Workflow\n",
    "\n",
    "Since from the quantum algorithm one can only compute functions from the solution vector, an instance of the algorithm can be created by specifying the error tolerance and the desired observable(s) to be computed:\n",
    "```python\n",
    "from qiskit.aqua.algorithms.linear_solvers.hhl import HHL\n",
    "from qiskit.aqua.algorithms.linear_solvers.observables import EuclideanNorm, AbsoluteAverage\n",
    "\n",
    "# initialise the algorithm\n",
    "hhl = HHL(observable=[EuclideanNorm(), MatrixFunctional()], epsilon=1e-3)\n",
    "```\n",
    "\n",
    "However some observables will depend on the dimension of the system, which ideally one only specifies one `hhl.solve` is called. Therefore, we could allow to add observables from this method as well.\n",
    "```python\n",
    "from qiskit.aqua.algorithms.linear_solvers.observables import MatrixFunctional\n",
    "\n",
    "# specify the problem\n",
    "matrix = [[1/2, -2], [-2, 1/2]]\n",
    "vector = [1, 0]\n",
    "# run the algorithm and add an observable which depends on the dimension \n",
    "result = hhl.solve(matrix=matrix, vector=vector, observable=MatrixFunctional([[1,2],[2,1]]))\n",
    "\n",
    "# array with the calculated values for each observable\n",
    "observable_values = result.value\n",
    "\n",
    "```\n",
    "\n",
    "### Questions\n",
    "\n",
    "When to specify observables: within HHL `__init__`, `solve`, or both?\n",
    "\n",
    "### Future work\n",
    "\n",
    "Add the Richardson extrapolation logic.\n",
    "\n",
    "### References\n",
    "[1] Carrera Vazquez, A., Hiptmair, R., & Woerner, S. (2020). Enhancing the Quantum Linear Systems Algorithm using Richardson Extrapolation. `arXiv:2009.04484 <http://arxiv.org/abs/2009.04484>`"
   ]
  },
  {
   "cell_type": "code",
   "execution_count": null,
   "metadata": {},
   "outputs": [],
   "source": []
  }
 ],
 "metadata": {
  "kernelspec": {
   "display_name": "Python 3",
   "language": "python",
   "name": "python3"
  },
  "language_info": {
   "codemirror_mode": {
    "name": "ipython",
    "version": 3
   },
   "file_extension": ".py",
   "mimetype": "text/x-python",
   "name": "python",
   "nbconvert_exporter": "python",
   "pygments_lexer": "ipython3",
   "version": "3.6.2"
  }
 },
 "nbformat": 4,
 "nbformat_minor": 4
}
